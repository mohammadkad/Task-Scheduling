{
 "cells": [
  {
   "cell_type": "code",
   "execution_count": 3,
   "id": "43615967",
   "metadata": {},
   "outputs": [],
   "source": [
    "# 1404-05-18, Mohammad Kadkhodaei\n",
    "# -------------------------------\n",
    "\n",
    "NUM_FOG_NODES = 7\n",
    "NUM_EDGE_NODES = 14\n",
    "NUM_CLOUD_NODES = 1\n",
    "\n",
    "# Infrastructure parameters\n",
    "CLOUD_vCPU = float('inf')  # Elastic\n",
    "CLOUD_MEM = float('inf')   # Elastic\n",
    "FOG_vCPU = 4\n",
    "FOG_MEM = 4  # GB\n",
    "EDGE_vCPU = 1\n",
    "EDGE_MEM = 1  # GB\n",
    "\n",
    "\n",
    "class Infrastructure:\n",
    "    def __init__(self):\n",
    "    \n",
    "    \n",
    "        self.cloud_nodes = [{'remaining_vcpu': CLOUD_vCPU, 'remaining_mem': CLOUD_MEM} for _ in range(NUM_CLOUD_NODES)]\n",
    "        # print(self.cloud_nodes)\n",
    "        self.fog_nodes = [{'remaining_vcpu': FOG_vCPU, 'remaining_mem': FOG_MEM} for _ in range(NUM_FOG_NODES)]\n",
    "        # print(self.fog_nodes)\n",
    "        self.edge_nodes = [{'remaining_vcpu': EDGE_vCPU, 'remaining_mem': EDGE_MEM} for _ in range(NUM_EDGE_NODES)]\n",
    "    \n",
    "    def get_feature_vector(self):\n",
    "        \"\"\"Returns the current state of infrastructure resources\"\"\"\n",
    "        cloud_vcpu = [n['remaining_vcpu'] for n in self.cloud_nodes]\n",
    "        cloud_mem = [n['remaining_mem'] for n in self.cloud_nodes]\n",
    "        fog_vcpu = [n['remaining_vcpu'] for n in self.fog_nodes]\n",
    "        fog_mem = [n['remaining_mem'] for n in self.fog_nodes]\n",
    "        edge_vcpu = [n['remaining_vcpu'] for n in self.edge_nodes]\n",
    "        edge_mem = [n['remaining_mem'] for n in self.edge_nodes]\n",
    "        \n",
    "        return cloud_vcpu + cloud_mem + fog_vcpu + fog_mem + edge_vcpu + edge_mem  \n",
    "\n",
    "    def get_node_resources(self, node_type, node_idx):\n",
    "        \"\"\"Get remaining resources for a specific node\"\"\"\n",
    "        if node_type == 'cloud':\n",
    "            return self.cloud_nodes[node_idx]['remaining_vcpu'], self.cloud_nodes[node_idx]['remaining_mem']\n",
    "        elif node_type == 'fog':\n",
    "            return self.fog_nodes[node_idx]['remaining_vcpu'], self.fog_nodes[node_idx]['remaining_mem']\n",
    "        else:  # edge\n",
    "            return self.edge_nodes[node_idx]['remaining_vcpu'], self.edge_nodes[node_idx]['remaining_mem']"
   ]
  },
  {
   "cell_type": "code",
   "execution_count": 15,
   "id": "a9c7ae85",
   "metadata": {},
   "outputs": [
    {
     "name": "stdout",
     "output_type": "stream",
     "text": [
      "[inf, inf, 4, 4, 4, 4, 4, 4, 4, 4, 4, 4, 4, 4, 4, 4, 1, 1, 1, 1, 1, 1, 1, 1, 1, 1, 1, 1, 1, 1, 1, 1, 1, 1, 1, 1, 1, 1, 1, 1, 1, 1, 1, 1]\n",
      "---\n",
      "<class 'tuple'>\n"
     ]
    }
   ],
   "source": [
    "infra = Infrastructure()\n",
    "print(infra.get_feature_vector())\n",
    "print('---')\n",
    "print(type(infra.get_node_resources('edge', 13)))"
   ]
  }
 ],
 "metadata": {
  "kernelspec": {
   "display_name": "Python 3 (ipykernel)",
   "language": "python",
   "name": "python3"
  },
  "language_info": {
   "codemirror_mode": {
    "name": "ipython",
    "version": 3
   },
   "file_extension": ".py",
   "mimetype": "text/x-python",
   "name": "python",
   "nbconvert_exporter": "python",
   "pygments_lexer": "ipython3",
   "version": "3.11.1"
  }
 },
 "nbformat": 4,
 "nbformat_minor": 5
}
