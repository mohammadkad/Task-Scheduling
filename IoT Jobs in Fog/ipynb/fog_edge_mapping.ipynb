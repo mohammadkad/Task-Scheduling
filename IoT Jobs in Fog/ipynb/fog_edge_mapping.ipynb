{
 "cells": [
  {
   "cell_type": "code",
   "execution_count": 6,
   "id": "b8d28bfd",
   "metadata": {},
   "outputs": [
    {
     "name": "stdout",
     "output_type": "stream",
     "text": [
      "{0: [0, 1], 1: [2, 3], 2: [4, 5], 3: [6, 7], 4: [8, 9], 5: [10, 11], 6: [12, 13]}\n"
     ]
    }
   ],
   "source": [
    "# 1404-05-19\n",
    "# Mohammad Kadkhodaei\n",
    "# ---\n",
    "\n",
    "NUM_FOG_NODES = 7\n",
    "NUM_EDGE_NODES = 14\n",
    "\n",
    "fog_edge_mapping = {i: [2*i, 2*i+1] for i in range(NUM_FOG_NODES)}\n",
    "print(fog_edge_mapping)"
   ]
  }
 ],
 "metadata": {
  "kernelspec": {
   "display_name": "Python 3 (ipykernel)",
   "language": "python",
   "name": "python3"
  },
  "language_info": {
   "codemirror_mode": {
    "name": "ipython",
    "version": 3
   },
   "file_extension": ".py",
   "mimetype": "text/x-python",
   "name": "python",
   "nbconvert_exporter": "python",
   "pygments_lexer": "ipython3",
   "version": "3.11.1"
  }
 },
 "nbformat": 4,
 "nbformat_minor": 5
}
