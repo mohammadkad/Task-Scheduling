{
 "cells": [
  {
   "cell_type": "code",
   "execution_count": 1,
   "id": "c8a810ac",
   "metadata": {},
   "outputs": [],
   "source": [
    "import torch\n",
    "import torch.nn as nn\n",
    "import torch.optim as optim\n",
    "import numpy as np\n",
    "import random\n",
    "from collections import deque\n",
    "import math"
   ]
  },
  {
   "cell_type": "code",
   "execution_count": 2,
   "id": "92d3b857",
   "metadata": {},
   "outputs": [],
   "source": [
    "# Constants based on the paper's parameters\n",
    "NUM_JOBS = 100\n",
    "NUM_EPISODES = 120\n",
    "NUM_SENSORS = 21\n",
    "NUM_FOG_NODES = 7\n",
    "NUM_EDGE_NODES = 14\n",
    "NUM_CLOUD_NODES = 1\n",
    "\n",
    "# Resource demands (random ranges from paper)\n",
    "MIN_vCPU_PER_SENSOR = 0.01\n",
    "MAX_vCPU_PER_SENSOR = 0.1\n",
    "MIN_MEM_PER_SENSOR = 0.01  # GB\n",
    "MAX_MEM_PER_SENSOR = 0.1   # GB\n",
    "vCPU_PER_FL_SERVER = 0.0001\n",
    "MEM_PER_FL_SERVER = 0.001  # GB\n",
    "FL_EPOCHS = 20\n",
    "MODEL_SIZE = 5  # MB\n",
    "FL_TRAINING_FREQ = 0.6\n",
    "\n",
    "# Infrastructure parameters\n",
    "CLOUD_vCPU = float('inf')  # Elastic\n",
    "CLOUD_MEM = float('inf')   # Elastic\n",
    "FOG_vCPU = 4\n",
    "FOG_MEM = 4  # GB\n",
    "EDGE_vCPU = 1\n",
    "EDGE_MEM = 1  # GB\n",
    "\n",
    "# Costs (based on AWS Fargate pricing)\n",
    "CLOUD_vCPU_COST = 0.97152  # $/vCPU/Day\n",
    "CLOUD_MEM_COST = 0.10668   # $/GB/Day\n",
    "FOG_vCPU_COST = 0.4        # $/vCPU/Day\n",
    "FOG_MEM_COST = 0.05        # $/GB/Day\n",
    "EDGE_vCPU_COST = 0.0\n",
    "EDGE_MEM_COST = 0.0\n",
    "\n",
    "# Data transfer costs\n",
    "TYPE1_COST = 0.09  # $/GB (cloud to internet)\n",
    "TYPE2_COST = 0.32  # $/GB (internet)\n",
    "TYPE3_COST = 0.16  # $/GB (intranet)\n",
    "\n",
    "# DDPG parameters\n",
    "ACTOR_LR = 0.0005\n",
    "CRITIC_LR = 0.002\n",
    "GAMMA = 0.99\n",
    "TAU = 0.005\n",
    "BUFFER_SIZE = 100000\n",
    "BATCH_SIZE = 256\n",
    "NOISE_STD = 0.1\n",
    "NOISE_DECAY = 0.9995\n",
    "\n",
    "# Task creation parameters\n",
    "SEGMENT_SIZE = 2 / (NUM_SENSORS * 10)"
   ]
  },
  {
   "cell_type": "code",
   "execution_count": 3,
   "id": "76d3e67d",
   "metadata": {},
   "outputs": [],
   "source": [
    "# DDPG agent (state dim = job features + infra features)\n",
    "job_feature_dim = NUM_SENSORS + 7  # From Job.get_feature_vector()\n",
    "infra_feature_dim = 2 * (NUM_CLOUD_NODES + NUM_FOG_NODES + NUM_EDGE_NODES)  # vCPU and mem for each node\n",
    "state_dim = job_feature_dim + infra_feature_dim\n",
    "action_dim = NUM_SENSORS  # One action per sensor (position in 1D space)"
   ]
  },
  {
   "cell_type": "code",
   "execution_count": 9,
   "id": "b50b0be0",
   "metadata": {},
   "outputs": [
    {
     "name": "stdout",
     "output_type": "stream",
     "text": [
      "Job feature dimension: 28\n"
     ]
    },
    {
     "data": {
      "text/plain": [
       "72"
      ]
     },
     "metadata": {},
     "output_type": "display_data"
    }
   ],
   "source": [
    "# using display for better formatting\n",
    "from IPython.display import display\n",
    "\n",
    "print(f\"Job feature dimension: {job_feature_dim}\")\n",
    "display(state_dim)"
   ]
  }
 ],
 "metadata": {
  "kernelspec": {
   "display_name": "Python 3 (ipykernel)",
   "language": "python",
   "name": "python3"
  },
  "language_info": {
   "codemirror_mode": {
    "name": "ipython",
    "version": 3
   },
   "file_extension": ".py",
   "mimetype": "text/x-python",
   "name": "python",
   "nbconvert_exporter": "python",
   "pygments_lexer": "ipython3",
   "version": "3.11.1"
  }
 },
 "nbformat": 4,
 "nbformat_minor": 5
}
