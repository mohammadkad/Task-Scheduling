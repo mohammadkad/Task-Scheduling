{
 "cells": [
  {
   "cell_type": "code",
   "execution_count": 1,
   "id": "29be7a91-e8eb-45a5-b88a-0709ad8471b1",
   "metadata": {},
   "outputs": [],
   "source": [
    "# Importing EdgeSimPy components and its built-in libraries (NetworkX and MessagePack)\n",
    "from edge_sim_py import *\n",
    "import networkx as nx\n",
    "import msgpack\n",
    "\n",
    "# Importing Matplotlib, Pandas, and NumPy for logs parsing and visualization\n",
    "import matplotlib.pyplot as plt\n",
    "import pandas as pd\n",
    "import numpy as np"
   ]
  },
  {
   "cell_type": "code",
   "execution_count": 3,
   "id": "49b7e0c0-51ca-4730-9196-b70f79c9c03e",
   "metadata": {},
   "outputs": [],
   "source": [
    "def my_algorithm(parameters):\n",
    "    # We can always call the 'all()' method to get a list with all created instances of a given class\n",
    "    for service in Service.all():\n",
    "        # We don't want to migrate services are are already being migrated\n",
    "        if service.server == None and not service.being_provisioned:\n",
    "\n",
    "            # Let's iterate over the list of edge servers to find a suitable host for our service\n",
    "            for edge_server in EdgeServer.all():\n",
    "                \n",
    "                # We must check if the edge server has enough resources to host the service\n",
    "                if edge_server.has_capacity_to_host(service=service):\n",
    "                    \n",
    "                    # Start provisioning the service in the edge server\n",
    "                    service.provision(target_server=edge_server)\n",
    "                    \n",
    "                    # After start migrating the service we can move on to the next service\n",
    "                    break"
   ]
  },
  {
   "cell_type": "code",
   "execution_count": 4,
   "id": "7e74410f-03c1-4b7b-8488-7149606bcb4f",
   "metadata": {},
   "outputs": [],
   "source": [
    "def stopping_criterion(model: object):\n",
    "    # Defining a variable that will help us to count the number of services successfully provisioned within the infrastructure\n",
    "    provisioned_services = 0\n",
    "    \n",
    "    # Iterating over the list of services to count the number of services provisioned within the infrastructure\n",
    "    for service in Service.all():\n",
    "\n",
    "        # Initially, services are not hosted by any server (i.e., their \"server\" attribute is None).\n",
    "        # Once that value changes, we know that it has been successfully provisioned inside an edge server.\n",
    "        if service.server != None:\n",
    "            provisioned_services += 1\n",
    "    \n",
    "    # As EdgeSimPy will halt the simulation whenever this function returns True, its output will be a boolean expression\n",
    "    # that checks if the number of provisioned services equals to the number of services spawned in our simulation\n",
    "    return provisioned_services == Service.count()"
   ]
  },
  {
   "cell_type": "code",
   "execution_count": 5,
   "id": "644551e7-2314-4b4e-bef3-e1898352d4d8",
   "metadata": {},
   "outputs": [
    {
     "name": "stdout",
     "output_type": "stream",
     "text": [
      "Service_1. Host: EdgeServer_1\n",
      "Service_2. Host: EdgeServer_1\n",
      "Service_3. Host: EdgeServer_1\n",
      "Service_4. Host: EdgeServer_1\n",
      "Service_5. Host: EdgeServer_1\n",
      "Service_6. Host: EdgeServer_1\n"
     ]
    }
   ],
   "source": [
    "'''\n",
    "# Creating a Simulator object\n",
    "simulator = Simulator()\n",
    "\n",
    "# Loading the dataset file from the external JSON file\n",
    "simulator.initialize(input_file=\"https://raw.githubusercontent.com/EdgeSimPy/edgesimpy-tutorials/master/datasets/sample_dataset1.json\")\n",
    "\n",
    "# Displaying some of the objects loaded from the dataset\n",
    "for user in User.all():\n",
    "    print(f\"{user}. Coordinates: {user.coordinates}\")\n",
    "'''\n",
    "\n",
    "# Creating a Simulator object\n",
    "simulator = Simulator(\n",
    "    tick_duration=1,\n",
    "    tick_unit=\"seconds\",\n",
    "    stopping_criterion=stopping_criterion,\n",
    "    resource_management_algorithm=my_algorithm,\n",
    ")\n",
    "\n",
    "# Loading a sample dataset from GitHub\n",
    "simulator.initialize(input_file=\"https://raw.githubusercontent.com/EdgeSimPy/edgesimpy-tutorials/master/datasets/sample_dataset2.json\")\n",
    "\n",
    "# Executing the simulation\n",
    "simulator.run_model()\n",
    "\n",
    "# Checking the placement output\n",
    "for service in Service.all():\n",
    "    print(f\"{service}. Host: {service.server}\")"
   ]
  },
  {
   "cell_type": "code",
   "execution_count": null,
   "id": "cf67c9da-93a8-4e60-8ec9-a89d1bf6c3f1",
   "metadata": {},
   "outputs": [],
   "source": []
  }
 ],
 "metadata": {
  "kernelspec": {
   "display_name": "Python 3 (ipykernel)",
   "language": "python",
   "name": "python3"
  },
  "language_info": {
   "codemirror_mode": {
    "name": "ipython",
    "version": 3
   },
   "file_extension": ".py",
   "mimetype": "text/x-python",
   "name": "python",
   "nbconvert_exporter": "python",
   "pygments_lexer": "ipython3",
   "version": "3.13.5"
  }
 },
 "nbformat": 4,
 "nbformat_minor": 5
}
