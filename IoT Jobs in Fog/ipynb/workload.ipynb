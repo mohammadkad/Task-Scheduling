{
 "cells": [
  {
   "cell_type": "code",
   "execution_count": 4,
   "id": "2f3182f7",
   "metadata": {},
   "outputs": [],
   "source": [
    "import random \n",
    "\n",
    "NUM_JOBS = 100\n",
    "NUM_EPISODES = 120\n",
    "NUM_SENSORS = 21\n",
    "NUM_FOG_NODES = 7\n",
    "NUM_EDGE_NODES = 14\n",
    "NUM_CLOUD_NODES = 1\n",
    "\n",
    "sensors = random.sample(range(NUM_SENSORS), random.randint(3, NUM_SENSORS//2))\n",
    "\n",
    "'''\n",
    "creates a dictionary\n",
    "keys are the sensor IDs and the values are the corresponding workload amounts.\n",
    "'''\n",
    "workloads = {s: random.uniform(50, 500) for s in sensors}  # MB/day"
   ]
  },
  {
   "cell_type": "code",
   "execution_count": 5,
   "id": "ecd5fc7c",
   "metadata": {},
   "outputs": [
    {
     "data": {
      "text/plain": [
       "[10, 9, 17, 4, 2, 7, 20, 11, 1]"
      ]
     },
     "execution_count": 5,
     "metadata": {},
     "output_type": "execute_result"
    }
   ],
   "source": [
    "sensors"
   ]
  },
  {
   "cell_type": "code",
   "execution_count": 6,
   "id": "8fc23da8",
   "metadata": {},
   "outputs": [
    {
     "data": {
      "text/plain": [
       "{10: 82.21759472584355,\n",
       " 9: 80.87941444744027,\n",
       " 17: 480.7214997672905,\n",
       " 4: 253.56947236504593,\n",
       " 2: 222.84119630022616,\n",
       " 7: 171.85296078505777,\n",
       " 20: 417.86771945341377,\n",
       " 11: 116.47288856759488,\n",
       " 1: 326.7232437094912}"
      ]
     },
     "execution_count": 6,
     "metadata": {},
     "output_type": "execute_result"
    }
   ],
   "source": [
    "workloads"
   ]
  }
 ],
 "metadata": {
  "kernelspec": {
   "display_name": "Python 3 (ipykernel)",
   "language": "python",
   "name": "python3"
  },
  "language_info": {
   "codemirror_mode": {
    "name": "ipython",
    "version": 3
   },
   "file_extension": ".py",
   "mimetype": "text/x-python",
   "name": "python",
   "nbconvert_exporter": "python",
   "pygments_lexer": "ipython3",
   "version": "3.11.1"
  }
 },
 "nbformat": 4,
 "nbformat_minor": 5
}
