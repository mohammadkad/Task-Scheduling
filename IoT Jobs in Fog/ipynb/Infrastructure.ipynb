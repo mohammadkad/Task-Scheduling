{
 "cells": [
  {
   "cell_type": "code",
   "execution_count": 22,
   "id": "ebaa1f98",
   "metadata": {},
   "outputs": [],
   "source": [
    "# 1404-05-18, Mohammad Kadkhodaei\n",
    "# -------------------------------\n",
    "\n",
    "NUM_FOG_NODES = 7\n",
    "NUM_EDGE_NODES = 14\n",
    "NUM_CLOUD_NODES = 1\n",
    "\n",
    "# Infrastructure parameters\n",
    "CLOUD_vCPU = float('inf')  # Elastic\n",
    "CLOUD_MEM = float('inf')   # Elastic\n",
    "FOG_vCPU = 4\n",
    "FOG_MEM = 4  # GB\n",
    "EDGE_vCPU = 1\n",
    "EDGE_MEM = 1  # GB\n",
    "\n",
    "\n",
    "class Infrastructure:\n",
    "    def __init__(self):\n",
    "    \n",
    "    \n",
    "        self.cloud_nodes = [{'remaining_vcpu': CLOUD_vCPU, 'remaining_mem': CLOUD_MEM} for _ in range(NUM_CLOUD_NODES)]\n",
    "        # print(self.cloud_nodes)\n",
    "        self.fog_nodes = [{'remaining_vcpu': FOG_vCPU, 'remaining_mem': FOG_MEM} for _ in range(NUM_FOG_NODES)]\n",
    "        # print(self.fog_nodes)\n",
    "        self.edge_nodes = [{'remaining_vcpu': EDGE_vCPU, 'remaining_mem': EDGE_MEM} for _ in range(NUM_EDGE_NODES)]\n",
    "    \n",
    "    def get_feature_vector(self):\n",
    "        \"\"\"Returns the current state of infrastructure resources\"\"\"\n",
    "        cloud_vcpu = [n['remaining_vcpu'] for n in self.cloud_nodes]\n",
    "        cloud_mem = [n['remaining_mem'] for n in self.cloud_nodes]\n",
    "        fog_vcpu = [n['remaining_vcpu'] for n in self.fog_nodes]\n",
    "        fog_mem = [n['remaining_mem'] for n in self.fog_nodes]\n",
    "        edge_vcpu = [n['remaining_vcpu'] for n in self.edge_nodes]\n",
    "        edge_mem = [n['remaining_mem'] for n in self.edge_nodes]\n",
    "        \n",
    "        return cloud_vcpu + cloud_mem + fog_vcpu + fog_mem + edge_vcpu + edge_mem    "
   ]
  },
  {
   "cell_type": "code",
   "execution_count": 23,
   "id": "ba3604f2",
   "metadata": {},
   "outputs": [
    {
     "name": "stdout",
     "output_type": "stream",
     "text": [
      "[inf, inf, 4, 4, 4, 4, 4, 4, 4, 4, 4, 4, 4, 4, 4, 4, 1, 1, 1, 1, 1, 1, 1, 1, 1, 1, 1, 1, 1, 1, 1, 1, 1, 1, 1, 1, 1, 1, 1, 1, 1, 1, 1, 1]\n"
     ]
    }
   ],
   "source": [
    "infra = Infrastructure()\n",
    "print(infra.get_feature_vector())"
   ]
  }
 ],
 "metadata": {
  "kernelspec": {
   "display_name": "Python 3 (ipykernel)",
   "language": "python",
   "name": "python3"
  },
  "language_info": {
   "codemirror_mode": {
    "name": "ipython",
    "version": 3
   },
   "file_extension": ".py",
   "mimetype": "text/x-python",
   "name": "python",
   "nbconvert_exporter": "python",
   "pygments_lexer": "ipython3",
   "version": "3.11.1"
  }
 },
 "nbformat": 4,
 "nbformat_minor": 5
}
